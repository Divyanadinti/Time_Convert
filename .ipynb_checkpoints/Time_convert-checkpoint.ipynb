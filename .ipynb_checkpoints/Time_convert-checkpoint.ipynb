{
 "cells": [
  {
   "cell_type": "markdown",
   "id": "33ba8086",
   "metadata": {},
   "source": [
    "# Have the function TimeConvert(num) take the num parameter being passed and return the number of hours and minutes the parameter converts to (ie. if num = 63 then the output should be 1:3). Separate the number of hours and minutes with a colon."
   ]
  },
  {
   "cell_type": "code",
   "execution_count": 1,
   "id": "ae56dc4b",
   "metadata": {},
   "outputs": [
    {
     "name": "stdout",
     "output_type": "stream",
     "text": [
      "1:3\n",
      "2:0\n",
      "0:45\n"
     ]
    }
   ],
   "source": [
    "def TimeConvert(num):\n",
    "    # Calculate the number of hours\n",
    "    hours = num // 60\n",
    "    \n",
    "    # Calculate the remaining minutes\n",
    "    minutes = num % 60\n",
    "    \n",
    "    # Return the result in the \"hours:minutes\" format\n",
    "    return f\"{hours}:{minutes}\"\n",
    "\n",
    "# Example usage\n",
    "print(TimeConvert(63))  \n",
    "print(TimeConvert(120)) \n",
    "print(TimeConvert(45)) "
   ]
  },
  {
   "cell_type": "code",
   "execution_count": null,
   "id": "d3cdc243",
   "metadata": {},
   "outputs": [],
   "source": []
  }
 ],
 "metadata": {
  "kernelspec": {
   "display_name": "Python 3 (ipykernel)",
   "language": "python",
   "name": "python3"
  },
  "language_info": {
   "codemirror_mode": {
    "name": "ipython",
    "version": 3
   },
   "file_extension": ".py",
   "mimetype": "text/x-python",
   "name": "python",
   "nbconvert_exporter": "python",
   "pygments_lexer": "ipython3",
   "version": "3.10.9"
  }
 },
 "nbformat": 4,
 "nbformat_minor": 5
}
